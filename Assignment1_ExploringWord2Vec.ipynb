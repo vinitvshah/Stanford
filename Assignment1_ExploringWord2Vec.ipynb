{
  "nbformat": 4,
  "nbformat_minor": 0,
  "metadata": {
    "colab": {
      "provenance": [],
      "include_colab_link": true
    },
    "language_info": {
      "codemirror_mode": {
        "name": "ipython",
        "version": 3
      },
      "file_extension": ".py",
      "mimetype": "text/x-python",
      "name": "python",
      "nbconvert_exporter": "python",
      "pygments_lexer": "ipython3",
      "version": "3.7.1"
    },
    "kernelspec": {
      "name": "python3",
      "display_name": "Python 3"
    },
    "gpuClass": "standard"
  },
  "cells": [
    {
      "cell_type": "markdown",
      "metadata": {
        "id": "view-in-github",
        "colab_type": "text"
      },
      "source": [
        "<a href=\"https://colab.research.google.com/github/vinitvshah/Stanford/blob/main/Assignment1_ExploringWord2Vec.ipynb\" target=\"_parent\"><img src=\"https://colab.research.google.com/assets/colab-badge.svg\" alt=\"Open In Colab\"/></a>"
      ]
    },
    {
      "cell_type": "markdown",
      "metadata": {
        "id": "1ZcUP8hOcIHt"
      },
      "source": [
        "# XCS224N Assignment 1 Part 2: Experimenting with Word2Vec Embeddings (15 Points)\n",
        "\n",
        "Before you start, make sure you read the [XCS224N Assignment 1 PDF Handout](https://github.com/scpd-proed/XCS224N-A1/blob/master/A1.pdf).\n",
        "\n",
        "**The functions used below are case sensitive** (for example \"strong\" and \"Strong\" can give different output). Please make that your string inputs to the below functions are exactly as given in the quiz.\n"
      ]
    },
    {
      "cell_type": "code",
      "metadata": {
        "id": "UMX2qGcLcIHx"
      },
      "source": [
        "# All Import Statements Defined Here\n",
        "# Note: Do not add to this list.\n",
        "# All the dependencies you need can be installed by running this cell.\n",
        "# Throughout this notebook you can run a cell by hitting CTRL+RETURN or the Play button/icon at left\n",
        "# ----------------\n",
        "\n",
        "import sys\n",
        "assert sys.version_info[0]==3\n",
        "assert sys.version_info[1] >= 5\n",
        "\n",
        "from gensim.models import KeyedVectors\n",
        "from gensim.test.utils import datapath\n",
        "import pprint\n",
        "import matplotlib.pyplot as plt\n",
        "\n",
        "# ----------------"
      ],
      "execution_count": 1,
      "outputs": []
    },
    {
      "cell_type": "markdown",
      "metadata": {
        "id": "7NsuZre3cII4"
      },
      "source": [
        "As discussed in class, more recently prediction-based word vectors have come into fashion, e.g. word2vec. Here, we shall explore the embeddings produced by word2vec. Please revisit the class notes and lecture slides for more details on the word2vec algorithm. If you're feeling adventurous, challenge yourself and try reading the [original paper](https://papers.nips.cc/paper/5021-distributed-representations-of-words-and-phrases-and-their-compositionality.pdf).\n",
        "\n",
        "Then run the following cells to load the word2vec vectors into memory. **_Note: This could take several minutes._**"
      ]
    },
    {
      "cell_type": "code",
      "metadata": {
        "id": "xffIF_HLcII5"
      },
      "source": [
        "def load_word2vec():\n",
        "    \"\"\" Load Word2Vec Vectors\n",
        "        Return:\n",
        "            wv_from_bin: 2.5 million of 3 million embeddings, each lengh 300\n",
        "    \"\"\"\n",
        "    import gensim.downloader as api\n",
        "    from gensim.models import KeyedVectors\n",
        "    # let's load 2.5 million of the 3 million word embeddings so we don't run out of memory on Colab\n",
        "    wv_from_bin = KeyedVectors.load_word2vec_format(api.load(\"word2vec-google-news-300\", return_path=True), limit=2500000, binary=True)\n",
        "    #vocab = list(wv_from_bin.vocab.keys())\n",
        "    vocab = list(wv_from_bin.key_to_index.keys())\n",
        "    print(\"Loaded vocab size %i\" % len(vocab))\n",
        "    return wv_from_bin"
      ],
      "execution_count": 7,
      "outputs": []
    },
    {
      "cell_type": "code",
      "source": [],
      "metadata": {
        "id": "8g8qiFJ12-nP"
      },
      "execution_count": null,
      "outputs": []
    },
    {
      "cell_type": "code",
      "metadata": {
        "id": "auC2oPKqcII9",
        "colab": {
          "base_uri": "https://localhost:8080/"
        },
        "outputId": "07a44db2-3017-4b76-e878-eea7124eed99"
      },
      "source": [
        "# -----------------------------------\n",
        "# Run Cell to Load Word Vectors\n",
        "# Note: This may take several minutes\n",
        "# -----------------------------------\n",
        "wv_from_bin = load_word2vec()"
      ],
      "execution_count": 8,
      "outputs": [
        {
          "output_type": "stream",
          "name": "stdout",
          "text": [
            "Loaded vocab size 2500000\n"
          ]
        }
      ]
    },
    {
      "cell_type": "markdown",
      "metadata": {
        "id": "nutxSVMXcIJQ"
      },
      "source": [
        "###Question 1 (2 points)\n",
        "\n",
        "The first question relates to the plot from the first part of the assignment. Please visit the [Assignment 1 PDF](https://github.com/scpd-proed/XCS224N-A1/blob/master/A1.pdf) for further details. \n",
        "\n"
      ]
    },
    {
      "cell_type": "markdown",
      "metadata": {
        "id": "Hx-f7eIbSkxx"
      },
      "source": [
        "\n",
        "### Cosine Similarity\n",
        "Now that we have word vectors, we need a way to quantify the similarity between individual words, according to these vectors. One such metric is cosine-similarity. We will be using this to find words that are \"close\" and \"far\" from one another.\n",
        "\n",
        "We can think of n-dimensional vectors as points in n-dimensional space. If we take this perspective L1 and L2 Distances help quantify the amount of space \"we must travel\" to get between these two points. Another approach is to examine the angle between two vectors. From trigonometry we know that:\n",
        "\n",
        "<img src=\"https://drive.google.com/uc?id=1PEmKQxxs5XB-N1Hz-jr514iWoqa62MgL\" width=20% style=\"float: center;\"></img>\n",
        "\n",
        "Instead of computing the actual angle, we can leave the similarity in terms of $similarity = cos(\\Theta)$. Formally the [Cosine Similarity](https://en.wikipedia.org/wiki/Cosine_similarity) $s$ between two vectors $p$ and $q$ is defined as:\n",
        "\n",
        "$$s = \\frac{p \\cdot q}{||p|| ||q||}, \\textrm{ where } s \\in [-1, 1] $$ "
      ]
    },
    {
      "cell_type": "markdown",
      "metadata": {
        "id": "01SfDtSHcIJQ"
      },
      "source": [
        "### Questions 2-3: Homonymns and Similarity (4 points)\n",
        "\n",
        "Homonyms are words with more than one meaning. We want to see how our word embeddings capture this phenomenon for such words. We are going to test if, for certain homonyms, the top-10 most similar words (according to cosine similarity) contain related words from *both* meanings. For example, \"leaves\" has both \"vanishes\" and \"stalks\" in the top 10, and \"scoop\" has both \"handed_waffle_cone\" and \"lowdown\". \n",
        "\n",
        "**Note**: You should use the `wv_from_bin.most_similar(word)` function to get the top 10 similar words. This function ranks all other words in the vocabulary with respect to their cosine similarity to the given word. For further assistance please check the __[GenSim documentation](https://radimrehurek.com/gensim/models/keyedvectors.html#gensim.models.keyedvectors.FastTextKeyedVectors.most_similar)__.\n"
      ]
    },
    {
      "cell_type": "code",
      "source": [
        "\n",
        "wv_from_bin.most_similar(\"left\")#T"
      ],
      "metadata": {
        "id": "PjwnNlHFSEF1"
      },
      "execution_count": null,
      "outputs": []
    },
    {
      "cell_type": "code",
      "source": [
        "wv_from_bin.most_similar(\"nuts\")#T"
      ],
      "metadata": {
        "colab": {
          "base_uri": "https://localhost:8080/"
        },
        "id": "JCdckLv5SEb0",
        "outputId": "46b452c2-fcdd-4ede-9867-37b239d194c0"
      },
      "execution_count": 16,
      "outputs": [
        {
          "output_type": "execute_result",
          "data": {
            "text/plain": [
              "[('nut', 0.6487677097320557),\n",
              " ('crazy', 0.5603705644607544),\n",
              " ('nutty', 0.5235902070999146),\n",
              " ('bonkers', 0.5152066946029663),\n",
              " ('pecans_almonds', 0.4788070023059845),\n",
              " ('Neekam_proprietary_Blog', 0.47333618998527527),\n",
              " ('walnuts', 0.4707028865814209),\n",
              " ('regular_BetUS.com_columnists', 0.4703608751296997),\n",
              " ('allergics', 0.4700116813182831),\n",
              " ('batty', 0.469870924949646)]"
            ]
          },
          "metadata": {},
          "execution_count": 16
        }
      ]
    },
    {
      "cell_type": "code",
      "metadata": {
        "id": "NT1TUUT0cIJR",
        "colab": {
          "base_uri": "https://localhost:8080/"
        },
        "outputId": "6ddc2992-c3a5-45e1-a94e-120f65ce0c0b"
      },
      "source": [
        "### Run this cell to print out the Top-10 most similar words\n",
        "### Try the sample and then use this cell to complete Questions 2-10 in the companion quiz \n",
        "\n",
        "wv_from_bin.most_similar(\"pen\")#F as it contain only one meaning"
      ],
      "execution_count": 14,
      "outputs": [
        {
          "output_type": "execute_result",
          "data": {
            "text/plain": [
              "[('pens', 0.7111663222312927),\n",
              " ('pencil', 0.5767995119094849),\n",
              " ('quill', 0.5656781792640686),\n",
              " ('ballpoint', 0.5653775334358215),\n",
              " ('ballpoint_pen', 0.541506290435791),\n",
              " ('feather_quill', 0.5316810607910156),\n",
              " ('notepad', 0.526630163192749),\n",
              " ('quill_pen', 0.5166342854499817),\n",
              " ('biro', 0.514026403427124),\n",
              " ('fountain_pen', 0.5093280076980591)]"
            ]
          },
          "metadata": {},
          "execution_count": 14
        }
      ]
    },
    {
      "cell_type": "code",
      "source": [
        "wv_from_bin.most_similar(\"right\")#T as it contain multiple meaning"
      ],
      "metadata": {
        "colab": {
          "base_uri": "https://localhost:8080/"
        },
        "id": "RiYmDKNEJc4a",
        "outputId": "1f8c9a96-188d-40ad-992d-c856a2f1228a"
      },
      "execution_count": 17,
      "outputs": [
        {
          "output_type": "execute_result",
          "data": {
            "text/plain": [
              "[('Right', 0.5703941583633423),\n",
              " ('wrong', 0.5534271597862244),\n",
              " ('##.Help_us', 0.5502839684486389),\n",
              " ('Goodwill_Catanese', 0.5159174203872681),\n",
              " ('left', 0.49213990569114685),\n",
              " ('fielder_Joe_Borchard', 0.48948535323143005),\n",
              " ('fielder_Ambiorix_Concepcion', 0.4841775596141815),\n",
              " ('now', 0.4794556498527527),\n",
              " ('fielder_Jeromy_Burnitz', 0.47718381881713867),\n",
              " ('fielder_Lucas_Duda', 0.47022584080696106)]"
            ]
          },
          "metadata": {},
          "execution_count": 17
        }
      ]
    },
    {
      "cell_type": "code",
      "source": [
        "wv_from_bin.most_similar(\"drive\")#T"
      ],
      "metadata": {
        "colab": {
          "base_uri": "https://localhost:8080/"
        },
        "id": "43hlg2wfJhmO",
        "outputId": "daefeec0-8c24-4540-c949-7188de0edf73"
      },
      "execution_count": 18,
      "outputs": [
        {
          "output_type": "execute_result",
          "data": {
            "text/plain": [
              "[('drives', 0.7914609909057617),\n",
              " ('driving', 0.5405872464179993),\n",
              " ('drove', 0.5120137929916382),\n",
              " ('push', 0.49055543541908264),\n",
              " ('run', 0.4834050238132477),\n",
              " ('driven', 0.44512292742729187),\n",
              " ('Drives', 0.42788973450660706),\n",
              " ('SFF_SAS', 0.4223554730415344),\n",
              " ('bootable_flash', 0.4152117371559143),\n",
              " ('SanDisk_Ultra_Backup', 0.4149131178855896)]"
            ]
          },
          "metadata": {},
          "execution_count": 18
        }
      ]
    },
    {
      "cell_type": "code",
      "source": [
        "wv_from_bin.most_similar(\"rose\")#F"
      ],
      "metadata": {
        "colab": {
          "base_uri": "https://localhost:8080/"
        },
        "id": "Ugv3Y1mFJhy_",
        "outputId": "3bcb9bba-e266-4e43-d2eb-347f36985bfa"
      },
      "execution_count": 19,
      "outputs": [
        {
          "output_type": "execute_result",
          "data": {
            "text/plain": [
              "[('surged', 0.8056200742721558),\n",
              " ('climbed', 0.8045108914375305),\n",
              " ('soared', 0.7695155739784241),\n",
              " ('fell', 0.7688519954681396),\n",
              " ('tumbled', 0.725606381893158),\n",
              " ('dipped', 0.7209846377372742),\n",
              " ('jumped', 0.6997673511505127),\n",
              " ('inched', 0.6791028380393982),\n",
              " ('risen', 0.6686744093894958),\n",
              " ('plunged', 0.6635587811470032)]"
            ]
          },
          "metadata": {},
          "execution_count": 19
        }
      ]
    },
    {
      "cell_type": "code",
      "source": [
        "wv_from_bin.most_similar(\"mean\")#F"
      ],
      "metadata": {
        "colab": {
          "base_uri": "https://localhost:8080/"
        },
        "id": "_4CsohYSJh4l",
        "outputId": "7817cc0e-287a-49f0-bc33-ae9d844ee8f5"
      },
      "execution_count": 20,
      "outputs": [
        {
          "output_type": "execute_result",
          "data": {
            "text/plain": [
              "[('means', 0.6425307393074036),\n",
              " ('imply', 0.6203259825706482),\n",
              " ('equate', 0.5891613364219666),\n",
              " ('necessarily', 0.5722533464431763),\n",
              " ('necessitate', 0.5695107579231262),\n",
              " ('entail', 0.5649572014808655),\n",
              " ('bode_well', 0.5476653575897217),\n",
              " ('portend', 0.5455028414726257),\n",
              " ('do', 0.5375762581825256),\n",
              " ('anyway', 0.5220909714698792)]"
            ]
          },
          "metadata": {},
          "execution_count": 20
        }
      ]
    },
    {
      "cell_type": "code",
      "source": [
        "wv_from_bin.most_similar(\"saw\")#F"
      ],
      "metadata": {
        "colab": {
          "base_uri": "https://localhost:8080/"
        },
        "id": "ixagOg09Jh7-",
        "outputId": "ec575b74-a5e0-4d9e-e51d-d9c2e714cf0c"
      },
      "execution_count": 21,
      "outputs": [
        {
          "output_type": "execute_result",
          "data": {
            "text/plain": [
              "[('noticed', 0.5968519449234009),\n",
              " ('witnessed', 0.5899658203125),\n",
              " ('seeing', 0.5811247229576111),\n",
              " ('looked', 0.567682683467865),\n",
              " ('came', 0.5614315867424011),\n",
              " ('watched', 0.5570547580718994),\n",
              " ('seen', 0.5488225221633911),\n",
              " ('showed', 0.5405093431472778),\n",
              " ('went', 0.5265681147575378),\n",
              " ('see', 0.515012264251709)]"
            ]
          },
          "metadata": {},
          "execution_count": 21
        }
      ]
    },
    {
      "cell_type": "code",
      "source": [
        "#3 question is B\n",
        "\n",
        "Please input answer to question 3 of the Gradescope online assessment A1 (Google Colab) Online Assessment.\n",
        "Why do you think many of the homonyms you tried did not represent more than one meaning? - Select all the reasonable possibilities.\n",
        "a. A different word vector is trained for each meaning of the homonym, so synonyms for a particular meaning of the word will be most similar depending on the which vector we are using for the original word.\n",
        "b. In some scenarios, one meaning of the homonym is much more common in the training data than the other meanings, resulting in the vector for the homonym is much closer to words from one meaning than the other(s).\n",
        "c. When a particular meaning of a homonym is much more common than the others, the algorithm that trains the word vectors is able to recognize this and only learns to encode one of the definitions in the word vector."
      ],
      "metadata": {
        "id": "6JGrzWcxJh-y"
      },
      "execution_count": null,
      "outputs": []
    },
    {
      "cell_type": "markdown",
      "metadata": {
        "id": "K5-CpkCmcIJV"
      },
      "source": [
        "### Questions 4-5: Synonyms & Antonyms (4 points) \n",
        "\n",
        "When considering Cosine Similarity, it's often more convenient to think of Cosine Distance, which is simply (1 - Cosine Similarity).\n",
        "\n",
        "We will look for triplets of words (w1,w2,w3) where w1 and w2 are synonyms and w1 and w3 are antonyms, but Cosine Distance(w1,w3) < Cosine Distance(w1,w2). For example, w1=\"happy\" is closer to w3=\"sad\" than to w2=\"cheerful\".\n",
        "\n",
        "You should use the the `wv_from_bin.distance(w1, w2)` function here in order to compute the cosine distance between two words. Please see the __[GenSim documentation](https://radimrehurek.com/gensim/models/keyedvectors.html#gensim.models.keyedvectors.FastTextKeyedVectors.distance)__ for further assistance.\n"
      ]
    },
    {
      "cell_type": "code",
      "metadata": {
        "id": "uqZN_746cIJV",
        "colab": {
          "base_uri": "https://localhost:8080/"
        },
        "outputId": "b190ba8b-14df-4ef8-f09e-f93bef862901"
      },
      "source": [
        "### Run this cell to compare cosine distances between synonyms and antonyms\n",
        "### Try the sample and then use this cell to complete Questions 11-19 in the companion quiz\n",
        "\n",
        "w1 = \"happy\"\n",
        "w2 = \"cheerful\"\n",
        "w3 = \"sad\"\n",
        "w1_w2_dist = wv_from_bin.distance(w1, w2)\n",
        "w1_w3_dist = wv_from_bin.distance(w1, w3)\n",
        "\n",
        "print(\"Synonyms {}, {} have cosine distance: {}\".format(w1, w2, w1_w2_dist))\n",
        "print(\"Antonyms {}, {} have cosine distance: {}\".format(w1, w3, w1_w3_dist))\n",
        "#T"
      ],
      "execution_count": 10,
      "outputs": [
        {
          "output_type": "stream",
          "name": "stdout",
          "text": [
            "Synonyms happy, cheerful have cosine distance: 0.6162261664867401\n",
            "Antonyms happy, sad have cosine distance: 0.46453857421875\n"
          ]
        }
      ]
    },
    {
      "cell_type": "code",
      "source": [
        "### Run this cell to compare cosine distances between synonyms and antonyms\n",
        "### Try the sample and then use this cell to complete Questions 11-19 in the companion quiz\n",
        "\n",
        "w1 = \"right\"\n",
        "w2 = \"wrong\"\n",
        "w3 = \"correct\"\n",
        "w1_w2_dist = wv_from_bin.distance(w1, w2)\n",
        "w1_w3_dist = wv_from_bin.distance(w1, w3)\n",
        "\n",
        "print(\"Synonyms {}, {} have cosine distance: {}\".format(w1, w2, w1_w2_dist))\n",
        "print(\"Antonyms {}, {} have cosine distance: {}\".format(w1, w3, w1_w3_dist))\n",
        "#T"
      ],
      "metadata": {
        "colab": {
          "base_uri": "https://localhost:8080/"
        },
        "id": "r9mGJpvyLicE",
        "outputId": "4d598869-d5a4-418e-a501-b1171e031061"
      },
      "execution_count": 22,
      "outputs": [
        {
          "output_type": "stream",
          "name": "stdout",
          "text": [
            "Synonyms right, wrong have cosine distance: 0.44657284021377563\n",
            "Antonyms right, correct have cosine distance: 0.5972667038440704\n"
          ]
        }
      ]
    },
    {
      "cell_type": "code",
      "source": [
        "### Run this cell to compare cosine distances between synonyms and antonyms\n",
        "### Try the sample and then use this cell to complete Questions 11-19 in the companion quiz\n",
        "\n",
        "w1 = \"big\"\n",
        "w2 = \"small\"\n",
        "w3 = \"large\"\n",
        "w1_w2_dist = wv_from_bin.distance(w1, w2)\n",
        "w1_w3_dist = wv_from_bin.distance(w1, w3)\n",
        "\n",
        "print(\"Synonyms {}, {} have cosine distance: {}\".format(w1, w2, w1_w2_dist))\n",
        "print(\"Antonyms {}, {} have cosine distance: {}\".format(w1, w3, w1_w3_dist))\n",
        "#F"
      ],
      "metadata": {
        "colab": {
          "base_uri": "https://localhost:8080/"
        },
        "id": "MBltkEiSLisP",
        "outputId": "06eb5951-f046-4f8c-9674-762cacdd20ba"
      },
      "execution_count": 23,
      "outputs": [
        {
          "output_type": "stream",
          "name": "stdout",
          "text": [
            "Synonyms big, small have cosine distance: 0.5041321516036987\n",
            "Antonyms big, large have cosine distance: 0.44385212659835815\n"
          ]
        }
      ]
    },
    {
      "cell_type": "code",
      "source": [
        "### Run this cell to compare cosine distances between synonyms and antonyms\n",
        "### Try the sample and then use this cell to complete Questions 11-19 in the companion quiz\n",
        "\n",
        "w1 = \"good\"\n",
        "w2 = \"bad\"\n",
        "w3 = \"nice\"\n",
        "w1_w2_dist = wv_from_bin.distance(w1, w2)\n",
        "w1_w3_dist = wv_from_bin.distance(w1, w3)\n",
        "\n",
        "print(\"Synonyms {}, {} have cosine distance: {}\".format(w1, w2, w1_w2_dist))\n",
        "print(\"Antonyms {}, {} have cosine distance: {}\".format(w1, w3, w1_w3_dist))\n",
        "#T"
      ],
      "metadata": {
        "colab": {
          "base_uri": "https://localhost:8080/"
        },
        "id": "w6MmalNfLizc",
        "outputId": "c768e313-d490-4a2d-cd61-5cc41a103260"
      },
      "execution_count": 24,
      "outputs": [
        {
          "output_type": "stream",
          "name": "stdout",
          "text": [
            "Synonyms good, bad have cosine distance: 0.28099489212036133\n",
            "Antonyms good, nice have cosine distance: 0.3163908123970032\n"
          ]
        }
      ]
    },
    {
      "cell_type": "code",
      "source": [
        "### Run this cell to compare cosine distances between synonyms and antonyms\n",
        "### Try the sample and then use this cell to complete Questions 11-19 in the companion quiz\n",
        "\n",
        "w1 = \"day\"\n",
        "w2 = \"night\"\n",
        "w3 = \"daytime\"\n",
        "w1_w2_dist = wv_from_bin.distance(w1, w2)\n",
        "w1_w3_dist = wv_from_bin.distance(w1, w3)\n",
        "\n",
        "print(\"Synonyms {}, {} have cosine distance: {}\".format(w1, w2, w1_w2_dist))\n",
        "print(\"Antonyms {}, {} have cosine distance: {}\".format(w1, w3, w1_w3_dist))\n",
        "#T"
      ],
      "metadata": {
        "colab": {
          "base_uri": "https://localhost:8080/"
        },
        "id": "iehI4EoFLi21",
        "outputId": "290a44fb-f7ce-4a6d-f6da-8cd8ae906f28"
      },
      "execution_count": 25,
      "outputs": [
        {
          "output_type": "stream",
          "name": "stdout",
          "text": [
            "Synonyms day, night have cosine distance: 0.49299925565719604\n",
            "Antonyms day, daytime have cosine distance: 0.749595046043396\n"
          ]
        }
      ]
    },
    {
      "cell_type": "code",
      "source": [
        "### Run this cell to compare cosine distances between synonyms and antonyms\n",
        "### Try the sample and then use this cell to complete Questions 11-19 in the companion quiz\n",
        "\n",
        "w1 = \"insane\"\n",
        "w2 = \"sane\"\n",
        "w3 = \"crazy\"\n",
        "w1_w2_dist = wv_from_bin.distance(w1, w2)\n",
        "w1_w3_dist = wv_from_bin.distance(w1, w3)\n",
        "\n",
        "print(\"Synonyms {}, {} have cosine distance: {}\".format(w1, w2, w1_w2_dist))\n",
        "print(\"Antonyms {}, {} have cosine distance: {}\".format(w1, w3, w1_w3_dist))\n",
        "#F"
      ],
      "metadata": {
        "colab": {
          "base_uri": "https://localhost:8080/"
        },
        "id": "pXNCpATMLi6U",
        "outputId": "26fcd848-d851-466f-98b8-0e4493c2a069"
      },
      "execution_count": 26,
      "outputs": [
        {
          "output_type": "stream",
          "name": "stdout",
          "text": [
            "Synonyms insane, sane have cosine distance: 0.40459734201431274\n",
            "Antonyms insane, crazy have cosine distance: 0.26609575748443604\n"
          ]
        }
      ]
    },
    {
      "cell_type": "code",
      "source": [
        "### Run this cell to compare cosine distances between synonyms and antonyms\n",
        "### Try the sample and then use this cell to complete Questions 11-19 in the companion quiz\n",
        "\n",
        "w1 = \"several\"\n",
        "w2 = \"one\"\n",
        "w3 = \"numerous\"\n",
        "w1_w2_dist = wv_from_bin.distance(w1, w2)\n",
        "w1_w3_dist = wv_from_bin.distance(w1, w3)\n",
        "\n",
        "print(\"Synonyms {}, {} have cosine distance: {}\".format(w1, w2, w1_w2_dist))\n",
        "print(\"Antonyms {}, {} have cosine distance: {}\".format(w1, w3, w1_w3_dist))\n",
        "#F"
      ],
      "metadata": {
        "colab": {
          "base_uri": "https://localhost:8080/"
        },
        "id": "Fx7hwUcgLi9W",
        "outputId": "c381793c-8087-45de-f25e-37b97213d11a"
      },
      "execution_count": 27,
      "outputs": [
        {
          "output_type": "stream",
          "name": "stdout",
          "text": [
            "Synonyms several, one have cosine distance: 0.5978294909000397\n",
            "Antonyms several, numerous have cosine distance: 0.20559799671173096\n"
          ]
        }
      ]
    },
    {
      "cell_type": "code",
      "source": [
        "### Run this cell to compare cosine distances between synonyms and antonyms\n",
        "### Try the sample and then use this cell to complete Questions 11-19 in the companion quiz\n",
        "\n",
        "w1 = \"antonym\"\n",
        "w2 = \"synonym\"\n",
        "w3 = \"opposite\"\n",
        "w1_w2_dist = wv_from_bin.distance(w1, w2)\n",
        "w1_w3_dist = wv_from_bin.distance(w1, w3)\n",
        "\n",
        "print(\"Synonyms {}, {} have cosine distance: {}\".format(w1, w2, w1_w2_dist))\n",
        "print(\"Antonyms {}, {} have cosine distance: {}\".format(w1, w3, w1_w3_dist))\n",
        "#T"
      ],
      "metadata": {
        "colab": {
          "base_uri": "https://localhost:8080/"
        },
        "id": "Dq18kKdhLjMj",
        "outputId": "0187fb40-dc3c-4cd2-ee6b-c824c026de4a"
      },
      "execution_count": 28,
      "outputs": [
        {
          "output_type": "stream",
          "name": "stdout",
          "text": [
            "Synonyms antonym, synonym have cosine distance: 0.43189460039138794\n",
            "Antonyms antonym, opposite have cosine distance: 0.8862465396523476\n"
          ]
        }
      ]
    },
    {
      "cell_type": "code",
      "source": [
        "#Q5 A incorrect"
      ],
      "metadata": {
        "id": "JXhkhfhJVFFU"
      },
      "execution_count": null,
      "outputs": []
    },
    {
      "cell_type": "markdown",
      "metadata": {
        "id": "MCV6TLW8cIJa"
      },
      "source": [
        "### Questions 6: Analogies with Word Vectors (3 points)\n",
        "Word2Vec vectors have been shown to *sometimes* exhibit the ability to solve analogies. \n",
        "\n",
        "As an example, for the analogy \"man : king :: woman : x\", what is x?\n",
        "\n",
        "In the cell below, we show you how to use word vectors to find x. The `most_similar` function finds words that are most similar to the words in the `positive` list and most dissimilar from the words in the `negative` list. **The model's proposed answer to the analogy will be the word ranked most similar (largest numerical value).**\n",
        "\n",
        "We will test whether or not the word vectors can solve a handful of pre-selected analogies. \n",
        "\n",
        "**Note:** Further Documentation on the `most_similar` function can be found within the __[GenSim documentation](https://radimrehurek.com/gensim/models/keyedvectors.html#gensim.models.keyedvectors.FastTextKeyedVectors.most_similar)__."
      ]
    },
    {
      "cell_type": "code",
      "metadata": {
        "id": "SOwdmtd5cIJa",
        "colab": {
          "base_uri": "https://localhost:8080/"
        },
        "outputId": "b5a523f4-6ff9-4bda-b1f0-635574c00c02"
      },
      "source": [
        "# Run this cell to answer the analogy -- man : king :: woman : x\n",
        "# Try the sample and then use this cell to complete Questions 20-31 in the companion quiz\n",
        "import pprint\n",
        "pprint.pprint(wv_from_bin.most_similar(positive=['woman', 'king'], negative=['man']))#T"
      ],
      "execution_count": 15,
      "outputs": [
        {
          "output_type": "stream",
          "name": "stdout",
          "text": [
            "[('queen', 0.7118193507194519),\n",
            " ('monarch', 0.6189674139022827),\n",
            " ('princess', 0.5902431011199951),\n",
            " ('crown_prince', 0.5499460697174072),\n",
            " ('prince', 0.5377321839332581),\n",
            " ('kings', 0.5236844420433044),\n",
            " ('Queen_Consort', 0.5235945582389832),\n",
            " ('queens', 0.5181134343147278),\n",
            " ('sultan', 0.5098593831062317),\n",
            " ('monarchy', 0.5087411999702454)]\n"
          ]
        }
      ]
    },
    {
      "cell_type": "code",
      "source": [
        "pprint.pprint(wv_from_bin.most_similar(positive=['air', 'plane'], negative=['sea']))#T"
      ],
      "metadata": {
        "colab": {
          "base_uri": "https://localhost:8080/"
        },
        "id": "_9xf4NO9M-1x",
        "outputId": "bf4c057f-0e82-4ab5-b230-ee84d113e27c"
      },
      "execution_count": 29,
      "outputs": [
        {
          "output_type": "stream",
          "name": "stdout",
          "text": [
            "[('airplane', 0.637683093547821),\n",
            " ('jet', 0.5881837606430054),\n",
            " ('aircraft', 0.5872041583061218),\n",
            " ('planes', 0.5846291184425354),\n",
            " ('jets', 0.5420348644256592),\n",
            " ('flight', 0.537104606628418),\n",
            " ('Plane', 0.5248915553092957),\n",
            " ('airliner', 0.5215628743171692),\n",
            " ('airplanes', 0.5153906345367432),\n",
            " ('turboprop', 0.5114881992340088)]\n"
          ]
        }
      ]
    },
    {
      "cell_type": "code",
      "source": [
        "pprint.pprint(wv_from_bin.most_similar(positive=['happy', 'laugh'], negative=['sad']))#F"
      ],
      "metadata": {
        "colab": {
          "base_uri": "https://localhost:8080/"
        },
        "id": "BYQhEMQyM-_l",
        "outputId": "c08d8312-ad4f-43e6-ecd6-e8cb8a860935"
      },
      "execution_count": 31,
      "outputs": [
        {
          "output_type": "stream",
          "name": "stdout",
          "text": [
            "[('chuckle', 0.6365084648132324),\n",
            " ('joking', 0.5423567295074463),\n",
            " ('laughs', 0.5406557321548462),\n",
            " ('laughing', 0.5397481322288513),\n",
            " ('giggle', 0.5337973833084106),\n",
            " ('laughed', 0.5161035656929016),\n",
            " ('chuckles', 0.5033769011497498),\n",
            " ('smile', 0.49839749932289124),\n",
            " ('hearty_laugh', 0.4934963583946228),\n",
            " ('kidding', 0.4785676896572113)]\n"
          ]
        }
      ]
    },
    {
      "cell_type": "code",
      "source": [
        "pprint.pprint(wv_from_bin.most_similar(positive=['cat', 'kitten'], negative=['dog']))#T"
      ],
      "metadata": {
        "colab": {
          "base_uri": "https://localhost:8080/"
        },
        "id": "YkJR4xdhVhb3",
        "outputId": "74ab123e-31ad-4632-acf8-ffd4698bb19a"
      },
      "execution_count": 32,
      "outputs": [
        {
          "output_type": "stream",
          "name": "stdout",
          "text": [
            "[('kittens', 0.6718688607215881),\n",
            " ('cats', 0.6181477308273315),\n",
            " ('feline', 0.6021382212638855),\n",
            " ('tabby', 0.5711360573768616),\n",
            " ('kitties', 0.5692704319953918),\n",
            " ('calico_cat', 0.5648190379142761),\n",
            " ('domestic_shorthair', 0.5596063733100891),\n",
            " ('tabby_cat', 0.5585119724273682),\n",
            " ('tabby_kitten', 0.5552829504013062),\n",
            " ('moggie', 0.5490846037864685)]\n"
          ]
        }
      ]
    },
    {
      "cell_type": "code",
      "source": [
        "pprint.pprint(wv_from_bin.most_similar(positive=['France', 'Paris'], negative=['Germany']))#T"
      ],
      "metadata": {
        "colab": {
          "base_uri": "https://localhost:8080/"
        },
        "id": "B8h_D-tWM_Cn",
        "outputId": "811170a2-b9d8-4548-cc54-e29097a3cb7b"
      },
      "execution_count": 33,
      "outputs": [
        {
          "output_type": "stream",
          "name": "stdout",
          "text": [
            "[('Parisian', 0.6453418135643005),\n",
            " ('French', 0.6274689435958862),\n",
            " ('Avignon', 0.5637457370758057),\n",
            " ('Grigny_south', 0.55402672290802),\n",
            " ('de_France', 0.5530701875686646),\n",
            " ('Saint_Honoré', 0.5517324209213257),\n",
            " ('Picardie', 0.5504419803619385),\n",
            " ('Nanterre_west', 0.5487589240074158),\n",
            " ('Corrèze', 0.54501873254776),\n",
            " ('du_Louvre', 0.5399160385131836)]\n"
          ]
        }
      ]
    },
    {
      "cell_type": "code",
      "source": [
        "pprint.pprint(wv_from_bin.most_similar(positive=['carnivore', 'meat'], negative=['herbivore']))#F"
      ],
      "metadata": {
        "colab": {
          "base_uri": "https://localhost:8080/"
        },
        "id": "UDQtfPuNM_Fa",
        "outputId": "f1683af2-f0f5-43b5-be3b-dcdb59116610"
      },
      "execution_count": 34,
      "outputs": [
        {
          "output_type": "stream",
          "name": "stdout",
          "text": [
            "[('meats', 0.6180452108383179),\n",
            " ('beef', 0.5917462110519409),\n",
            " ('chicken', 0.5694167613983154),\n",
            " ('pork', 0.5665526986122131),\n",
            " ('Meat', 0.5639603734016418),\n",
            " ('venison', 0.5519503355026245),\n",
            " ('veal', 0.5312579274177551),\n",
            " ('lamb', 0.5289067029953003),\n",
            " ('steaks', 0.5244351029396057),\n",
            " ('seafood', 0.5113347768783569)]\n"
          ]
        }
      ]
    },
    {
      "cell_type": "code",
      "source": [
        "pprint.pprint(wv_from_bin.most_similar(positive=['dog', 'bark'], negative=['cat']))#F"
      ],
      "metadata": {
        "colab": {
          "base_uri": "https://localhost:8080/"
        },
        "id": "9zyf-MlSM_IT",
        "outputId": "e4f98d5c-ab48-4ba4-97d8-89a339e7b690"
      },
      "execution_count": 35,
      "outputs": [
        {
          "output_type": "stream",
          "name": "stdout",
          "text": [
            "[('barks', 0.5531927347183228),\n",
            " ('Pacific_yew_tree', 0.4780045747756958),\n",
            " ('dogs', 0.47774964570999146),\n",
            " ('bark_incessantly', 0.4745722711086273),\n",
            " ('barking', 0.47351813316345215),\n",
            " ('cork_oak_tree', 0.4529801607131958),\n",
            " ('barked', 0.45231062173843384),\n",
            " ('paw_pads', 0.43014031648635864),\n",
            " ('Bomb_sniffing', 0.4300912022590637),\n",
            " ('Belgian_shepherd', 0.42919930815696716)]\n"
          ]
        }
      ]
    },
    {
      "cell_type": "code",
      "source": [
        "pprint.pprint(wv_from_bin.most_similar(positive=['bat', 'baseball'], negative=['racquet']))#T"
      ],
      "metadata": {
        "colab": {
          "base_uri": "https://localhost:8080/"
        },
        "id": "rYJ22aZsM_K-",
        "outputId": "cbec28d3-9964-4f40-bbdf-b18462f39d79"
      },
      "execution_count": 36,
      "outputs": [
        {
          "output_type": "stream",
          "name": "stdout",
          "text": [
            "[('bats', 0.6061003804206848),\n",
            " ('Baseball', 0.543516218662262),\n",
            " ('ballplayers', 0.5356798768043518),\n",
            " ('lefthanded_batter', 0.5255014300346375),\n",
            " ('ballplayer', 0.5093274712562561),\n",
            " ('basball', 0.5034885406494141),\n",
            " ('batting', 0.4993436932563782),\n",
            " ('Fernando_Viña', 0.4985162317752838),\n",
            " ('Wily_Mo_Peña', 0.4964933693408966),\n",
            " ('majorleague', 0.49641865491867065)]\n"
          ]
        }
      ]
    },
    {
      "cell_type": "code",
      "source": [
        "pprint.pprint(wv_from_bin.most_similar(positive=['mosque', 'Islam'], negative=['church']))#T"
      ],
      "metadata": {
        "colab": {
          "base_uri": "https://localhost:8080/"
        },
        "id": "X52K-21aM_Ni",
        "outputId": "228e2da9-ac46-4bdb-c848-f4986dabcee8"
      },
      "execution_count": 37,
      "outputs": [
        {
          "output_type": "stream",
          "name": "stdout",
          "text": [
            "[('Islamic', 0.6332969069480896),\n",
            " ('Muslim', 0.624652624130249),\n",
            " ('Muslims', 0.5954294204711914),\n",
            " ('radical_Islam', 0.5840725898742676),\n",
            " ('Imam', 0.5829536318778992),\n",
            " ('imam', 0.5565164685249329),\n",
            " ('Mohammad', 0.5464026927947998),\n",
            " ('Moslem', 0.5441066026687622),\n",
            " ('Qadhi', 0.5411019921302795),\n",
            " ('Salahuddin_Ayubi', 0.5376408100128174)]\n"
          ]
        }
      ]
    },
    {
      "cell_type": "code",
      "source": [
        "pprint.pprint(wv_from_bin.most_similar(positive=['long', 'longer'], negative=['short']))#T"
      ],
      "metadata": {
        "colab": {
          "base_uri": "https://localhost:8080/"
        },
        "id": "q2gRr8NUM_pp",
        "outputId": "9af8fe57-161d-4507-b572-5adce52c9303"
      },
      "execution_count": 38,
      "outputs": [
        {
          "output_type": "stream",
          "name": "stdout",
          "text": [
            "[('anymore', 0.427871972322464),\n",
            " ('direction_Ditcharo', 0.4029088616371155),\n",
            " ('Longer', 0.402518093585968),\n",
            " ('forever', 0.3864089548587799),\n",
            " ('indefinitely', 0.3724782168865204),\n",
            " ('shorter', 0.36990711092948914),\n",
            " ('still', 0.36693498492240906),\n",
            " ('awhile', 0.3611750900745392),\n",
            " ('Luxoft_builds', 0.35893258452415466),\n",
            " ('whether', 0.35354122519493103)]\n"
          ]
        }
      ]
    },
    {
      "cell_type": "code",
      "source": [
        "pprint.pprint(wv_from_bin.most_similar(positive=['long', 'longer'], negative=['more']))#T"
      ],
      "metadata": {
        "colab": {
          "base_uri": "https://localhost:8080/"
        },
        "id": "NIHtUX23Np-2",
        "outputId": "c17b9439-aa75-4efc-98b5-9e623a06e29f"
      },
      "execution_count": 39,
      "outputs": [
        {
          "output_type": "stream",
          "name": "stdout",
          "text": [
            "[('Long', 0.47405943274497986),\n",
            " ('short', 0.4720442295074463),\n",
            " ('forever', 0.41816672682762146),\n",
            " ('longest', 0.4102620780467987),\n",
            " ('lengthy', 0.4065423905849457),\n",
            " ('shorter', 0.39725181460380554),\n",
            " ('Pattern_Trapper_ADVANCED_Short', 0.39074835181236267),\n",
            " ('indefinitely', 0.3902145028114319),\n",
            " ('indefinite', 0.38213562965393066),\n",
            " ('duration', 0.3779577314853668)]\n"
          ]
        }
      ]
    },
    {
      "cell_type": "code",
      "source": [
        "pprint.pprint(wv_from_bin.most_similar(positive=['talk', 'talked'], negative=['help']))#T"
      ],
      "metadata": {
        "colab": {
          "base_uri": "https://localhost:8080/"
        },
        "id": "fWbLtXbhNp3s",
        "outputId": "beb993d4-a207-45ee-c92f-8ef0ca5222e1"
      },
      "execution_count": 40,
      "outputs": [
        {
          "output_type": "stream",
          "name": "stdout",
          "text": [
            "[('talking', 0.6782950758934021),\n",
            " ('spoke', 0.6057325601577759),\n",
            " ('spoken', 0.5464397072792053),\n",
            " ('chatted', 0.5379360914230347),\n",
            " ('discussing', 0.5285072922706604),\n",
            " ('Talked', 0.5167145133018494),\n",
            " ('reminisced', 0.5067119598388672),\n",
            " ('discussed', 0.5029619336128235),\n",
            " ('broached', 0.5009187459945679),\n",
            " ('spoke_candidly', 0.4949440658092499)]\n"
          ]
        }
      ]
    },
    {
      "cell_type": "markdown",
      "metadata": {
        "id": "4G2ozsjccIJp"
      },
      "source": [
        "### Question 7: Guided Analysis of Bias in Word Vectors (2 points)\n",
        "\n",
        "It's important to be cognizant of the biases (gender, race, sexual orientation etc.) implicit in our word embeddings. Execute the cells bellow and answer the final multiple choice question. \n",
        "\n",
        "Run the cell below, to examine (a) which terms are most similar to \"woman\" and \"doctor\" and most dissimilar to \"man\", and (b) which terms are most similar to \"man\" and \"doctor\" and most dissimilar to \"woman\"."
      ]
    },
    {
      "cell_type": "code",
      "metadata": {
        "id": "gfOf880QcIJr",
        "colab": {
          "base_uri": "https://localhost:8080/"
        },
        "outputId": "5e2377f3-69d3-4d73-a0d9-4c58cfbb0073"
      },
      "source": [
        "# Run this cell\n",
        "# Here `positive` indicates the list of words to be similar to and `negative` indicates the list of words to be\n",
        "# most dissimilar from.\n",
        "pprint.pprint(wv_from_bin.most_similar(positive=['woman', 'doctor'], negative=['man']))\n",
        "print()\n",
        "pprint.pprint(wv_from_bin.most_similar(positive=['man', 'doctor'], negative=['woman']))\n",
        "#answer is A"
      ],
      "execution_count": 41,
      "outputs": [
        {
          "output_type": "stream",
          "name": "stdout",
          "text": [
            "[('gynecologist', 0.7093892097473145),\n",
            " ('nurse', 0.6477287411689758),\n",
            " ('doctors', 0.6471460461616516),\n",
            " ('physician', 0.6438996195793152),\n",
            " ('pediatrician', 0.6249487996101379),\n",
            " ('nurse_practitioner', 0.6218312978744507),\n",
            " ('obstetrician', 0.6072013974189758),\n",
            " ('ob_gyn', 0.5986713171005249),\n",
            " ('midwife', 0.5927063226699829),\n",
            " ('dermatologist', 0.5739566683769226)]\n",
            "\n",
            "[('physician', 0.6463665962219238),\n",
            " ('doctors', 0.5858404040336609),\n",
            " ('surgeon', 0.5723941326141357),\n",
            " ('dentist', 0.552364706993103),\n",
            " ('cardiologist', 0.5413816571235657),\n",
            " ('neurologist', 0.5271127820014954),\n",
            " ('neurosurgeon', 0.5249835848808289),\n",
            " ('urologist', 0.5247740149497986),\n",
            " ('Doctor', 0.5240625143051147),\n",
            " ('internist', 0.5183223485946655)]\n"
          ]
        }
      ]
    },
    {
      "cell_type": "markdown",
      "metadata": {
        "id": "sPuJMxMjcIJ2"
      },
      "source": [
        "# <font color=\"blue\"> Submission Instructions</font>\n",
        "\n",
        "Simply make sure you have answered all the multiple choice questions to your satisfaction, and submit!\n",
        "  "
      ]
    }
  ]
}